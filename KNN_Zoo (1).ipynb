{
  "nbformat": 4,
  "nbformat_minor": 0,
  "metadata": {
    "colab": {
      "name": "KNN Zoo.ipynb",
      "provenance": [],
      "collapsed_sections": []
    },
    "kernelspec": {
      "name": "python3",
      "display_name": "Python 3"
    },
    "language_info": {
      "name": "python"
    }
  },
  "cells": [
    {
      "cell_type": "code",
      "metadata": {
        "id": "uSKnjoza8x1g"
      },
      "source": [
        "import numpy as np # linear algebra\n",
        "import pandas as pd # data processing, CSV file I/O (e.g. pd.read_csv)\n",
        "import matplotlib.pyplot as plt\n",
        "import seaborn as sns "
      ],
      "execution_count": 1,
      "outputs": []
    },
    {
      "cell_type": "code",
      "metadata": {
        "id": "6y0vkFKW9dOC"
      },
      "source": [
        "df = pd.read_csv('Zoo.csv')\n",
        "df.rename(columns = {\"animal name\":\"animalname\"},inplace =True)"
      ],
      "execution_count": 2,
      "outputs": []
    },
    {
      "cell_type": "code",
      "metadata": {
        "colab": {
          "base_uri": "https://localhost:8080/",
          "height": 223
        },
        "id": "F8FUTO-7jKEJ",
        "outputId": "8d8bd97f-012f-4cf6-8570-d9f2c6360fb8"
      },
      "source": [
        "df.head()"
      ],
      "execution_count": 3,
      "outputs": [
        {
          "output_type": "execute_result",
          "data": {
            "text/html": [
              "<div>\n",
              "<style scoped>\n",
              "    .dataframe tbody tr th:only-of-type {\n",
              "        vertical-align: middle;\n",
              "    }\n",
              "\n",
              "    .dataframe tbody tr th {\n",
              "        vertical-align: top;\n",
              "    }\n",
              "\n",
              "    .dataframe thead th {\n",
              "        text-align: right;\n",
              "    }\n",
              "</style>\n",
              "<table border=\"1\" class=\"dataframe\">\n",
              "  <thead>\n",
              "    <tr style=\"text-align: right;\">\n",
              "      <th></th>\n",
              "      <th>animalname</th>\n",
              "      <th>hair</th>\n",
              "      <th>feathers</th>\n",
              "      <th>eggs</th>\n",
              "      <th>milk</th>\n",
              "      <th>airborne</th>\n",
              "      <th>aquatic</th>\n",
              "      <th>predator</th>\n",
              "      <th>toothed</th>\n",
              "      <th>backbone</th>\n",
              "      <th>breathes</th>\n",
              "      <th>venomous</th>\n",
              "      <th>fins</th>\n",
              "      <th>legs</th>\n",
              "      <th>tail</th>\n",
              "      <th>domestic</th>\n",
              "      <th>catsize</th>\n",
              "      <th>type</th>\n",
              "    </tr>\n",
              "  </thead>\n",
              "  <tbody>\n",
              "    <tr>\n",
              "      <th>0</th>\n",
              "      <td>aardvark</td>\n",
              "      <td>1</td>\n",
              "      <td>0</td>\n",
              "      <td>0</td>\n",
              "      <td>1</td>\n",
              "      <td>0</td>\n",
              "      <td>0</td>\n",
              "      <td>1</td>\n",
              "      <td>1</td>\n",
              "      <td>1</td>\n",
              "      <td>1</td>\n",
              "      <td>0</td>\n",
              "      <td>0</td>\n",
              "      <td>4</td>\n",
              "      <td>0</td>\n",
              "      <td>0</td>\n",
              "      <td>1</td>\n",
              "      <td>1</td>\n",
              "    </tr>\n",
              "    <tr>\n",
              "      <th>1</th>\n",
              "      <td>antelope</td>\n",
              "      <td>1</td>\n",
              "      <td>0</td>\n",
              "      <td>0</td>\n",
              "      <td>1</td>\n",
              "      <td>0</td>\n",
              "      <td>0</td>\n",
              "      <td>0</td>\n",
              "      <td>1</td>\n",
              "      <td>1</td>\n",
              "      <td>1</td>\n",
              "      <td>0</td>\n",
              "      <td>0</td>\n",
              "      <td>4</td>\n",
              "      <td>1</td>\n",
              "      <td>0</td>\n",
              "      <td>1</td>\n",
              "      <td>1</td>\n",
              "    </tr>\n",
              "    <tr>\n",
              "      <th>2</th>\n",
              "      <td>bass</td>\n",
              "      <td>0</td>\n",
              "      <td>0</td>\n",
              "      <td>1</td>\n",
              "      <td>0</td>\n",
              "      <td>0</td>\n",
              "      <td>1</td>\n",
              "      <td>1</td>\n",
              "      <td>1</td>\n",
              "      <td>1</td>\n",
              "      <td>0</td>\n",
              "      <td>0</td>\n",
              "      <td>1</td>\n",
              "      <td>0</td>\n",
              "      <td>1</td>\n",
              "      <td>0</td>\n",
              "      <td>0</td>\n",
              "      <td>4</td>\n",
              "    </tr>\n",
              "    <tr>\n",
              "      <th>3</th>\n",
              "      <td>bear</td>\n",
              "      <td>1</td>\n",
              "      <td>0</td>\n",
              "      <td>0</td>\n",
              "      <td>1</td>\n",
              "      <td>0</td>\n",
              "      <td>0</td>\n",
              "      <td>1</td>\n",
              "      <td>1</td>\n",
              "      <td>1</td>\n",
              "      <td>1</td>\n",
              "      <td>0</td>\n",
              "      <td>0</td>\n",
              "      <td>4</td>\n",
              "      <td>0</td>\n",
              "      <td>0</td>\n",
              "      <td>1</td>\n",
              "      <td>1</td>\n",
              "    </tr>\n",
              "    <tr>\n",
              "      <th>4</th>\n",
              "      <td>boar</td>\n",
              "      <td>1</td>\n",
              "      <td>0</td>\n",
              "      <td>0</td>\n",
              "      <td>1</td>\n",
              "      <td>0</td>\n",
              "      <td>0</td>\n",
              "      <td>1</td>\n",
              "      <td>1</td>\n",
              "      <td>1</td>\n",
              "      <td>1</td>\n",
              "      <td>0</td>\n",
              "      <td>0</td>\n",
              "      <td>4</td>\n",
              "      <td>1</td>\n",
              "      <td>0</td>\n",
              "      <td>1</td>\n",
              "      <td>1</td>\n",
              "    </tr>\n",
              "  </tbody>\n",
              "</table>\n",
              "</div>"
            ],
            "text/plain": [
              "  animalname  hair  feathers  eggs  milk  ...  legs  tail  domestic  catsize  type\n",
              "0   aardvark     1         0     0     1  ...     4     0         0        1     1\n",
              "1   antelope     1         0     0     1  ...     4     1         0        1     1\n",
              "2       bass     0         0     1     0  ...     0     1         0        0     4\n",
              "3       bear     1         0     0     1  ...     4     0         0        1     1\n",
              "4       boar     1         0     0     1  ...     4     1         0        1     1\n",
              "\n",
              "[5 rows x 18 columns]"
            ]
          },
          "metadata": {},
          "execution_count": 3
        }
      ]
    },
    {
      "cell_type": "code",
      "metadata": {
        "id": "kgxirlt0ks0e"
      },
      "source": [
        "ani = df[\"animalname\"].value_counts()"
      ],
      "execution_count": 4,
      "outputs": []
    },
    {
      "cell_type": "code",
      "metadata": {
        "colab": {
          "base_uri": "https://localhost:8080/"
        },
        "id": "al1XfOK_kvR0",
        "outputId": "b22a4b49-59fa-4e21-ba34-04338af89aa1"
      },
      "source": [
        "df[\"type\"].value_counts()"
      ],
      "execution_count": 5,
      "outputs": [
        {
          "output_type": "execute_result",
          "data": {
            "text/plain": [
              "1    41\n",
              "2    20\n",
              "4    13\n",
              "7    10\n",
              "6     8\n",
              "3     5\n",
              "5     4\n",
              "Name: type, dtype: int64"
            ]
          },
          "metadata": {},
          "execution_count": 5
        }
      ]
    },
    {
      "cell_type": "code",
      "metadata": {
        "id": "WER4hXI6k5E5"
      },
      "source": [
        "data = df.describe()"
      ],
      "execution_count": 6,
      "outputs": []
    },
    {
      "cell_type": "code",
      "metadata": {
        "colab": {
          "base_uri": "https://localhost:8080/"
        },
        "id": "ShGxGAglk5Iq",
        "outputId": "7d86f952-b3d9-47e8-fc96-d397cc5cb69b"
      },
      "source": [
        "df.info()"
      ],
      "execution_count": 7,
      "outputs": [
        {
          "output_type": "stream",
          "text": [
            "<class 'pandas.core.frame.DataFrame'>\n",
            "RangeIndex: 101 entries, 0 to 100\n",
            "Data columns (total 18 columns):\n",
            " #   Column      Non-Null Count  Dtype \n",
            "---  ------      --------------  ----- \n",
            " 0   animalname  101 non-null    object\n",
            " 1   hair        101 non-null    int64 \n",
            " 2   feathers    101 non-null    int64 \n",
            " 3   eggs        101 non-null    int64 \n",
            " 4   milk        101 non-null    int64 \n",
            " 5   airborne    101 non-null    int64 \n",
            " 6   aquatic     101 non-null    int64 \n",
            " 7   predator    101 non-null    int64 \n",
            " 8   toothed     101 non-null    int64 \n",
            " 9   backbone    101 non-null    int64 \n",
            " 10  breathes    101 non-null    int64 \n",
            " 11  venomous    101 non-null    int64 \n",
            " 12  fins        101 non-null    int64 \n",
            " 13  legs        101 non-null    int64 \n",
            " 14  tail        101 non-null    int64 \n",
            " 15  domestic    101 non-null    int64 \n",
            " 16  catsize     101 non-null    int64 \n",
            " 17  type        101 non-null    int64 \n",
            "dtypes: int64(17), object(1)\n",
            "memory usage: 14.3+ KB\n"
          ],
          "name": "stdout"
        }
      ]
    },
    {
      "cell_type": "code",
      "metadata": {
        "colab": {
          "base_uri": "https://localhost:8080/"
        },
        "id": "mzHixkock5MO",
        "outputId": "5ad6e244-534b-464d-ae5e-bb8645d0063c"
      },
      "source": [
        "df[\"legs\"].var()"
      ],
      "execution_count": 8,
      "outputs": [
        {
          "output_type": "execute_result",
          "data": {
            "text/plain": [
              "4.134653465346538"
            ]
          },
          "metadata": {},
          "execution_count": 8
        }
      ]
    },
    {
      "cell_type": "code",
      "metadata": {
        "colab": {
          "base_uri": "https://localhost:8080/"
        },
        "id": "bexTBjeFl5sW",
        "outputId": "05de92e5-80f1-4de7-b673-11796abd60e6"
      },
      "source": [
        "df[\"hair\"].var()"
      ],
      "execution_count": 9,
      "outputs": [
        {
          "output_type": "execute_result",
          "data": {
            "text/plain": [
              "0.24693069306930682"
            ]
          },
          "metadata": {},
          "execution_count": 9
        }
      ]
    },
    {
      "cell_type": "code",
      "metadata": {
        "colab": {
          "base_uri": "https://localhost:8080/"
        },
        "id": "5DJeROzRl5xh",
        "outputId": "5725c1bf-1039-4cc4-fe44-5e723790bac7"
      },
      "source": [
        "df[\"feathers\"].var()"
      ],
      "execution_count": 10,
      "outputs": [
        {
          "output_type": "execute_result",
          "data": {
            "text/plain": [
              "0.1603960396039605"
            ]
          },
          "metadata": {},
          "execution_count": 10
        }
      ]
    },
    {
      "cell_type": "code",
      "metadata": {
        "colab": {
          "base_uri": "https://localhost:8080/"
        },
        "id": "3sen-KGAl50W",
        "outputId": "d92e68f2-0d0c-4e37-9ece-f6c056d012be"
      },
      "source": [
        "df[\"eggs\"].var()"
      ],
      "execution_count": 11,
      "outputs": [
        {
          "output_type": "execute_result",
          "data": {
            "text/plain": [
              "0.24534653465346504"
            ]
          },
          "metadata": {},
          "execution_count": 11
        }
      ]
    },
    {
      "cell_type": "code",
      "metadata": {
        "colab": {
          "base_uri": "https://localhost:8080/"
        },
        "id": "fJfKyM4Il529",
        "outputId": "d3654f5f-3152-4fb9-8af6-1825b626a0eb"
      },
      "source": [
        "df[\"milk\"].var()"
      ],
      "execution_count": 12,
      "outputs": [
        {
          "output_type": "execute_result",
          "data": {
            "text/plain": [
              "0.2435643564356434"
            ]
          },
          "metadata": {},
          "execution_count": 12
        }
      ]
    },
    {
      "cell_type": "code",
      "metadata": {
        "colab": {
          "base_uri": "https://localhost:8080/"
        },
        "id": "Ml7qDsXsl55F",
        "outputId": "098ba11e-51a1-46ce-a338-eb169611aa5d"
      },
      "source": [
        "df[\"airborne\"].var()"
      ],
      "execution_count": 13,
      "outputs": [
        {
          "output_type": "execute_result",
          "data": {
            "text/plain": [
              "0.18297029702970313"
            ]
          },
          "metadata": {},
          "execution_count": 13
        }
      ]
    },
    {
      "cell_type": "code",
      "metadata": {
        "id": "6uc9imOInOdn"
      },
      "source": [
        "variance = df.var()"
      ],
      "execution_count": 14,
      "outputs": []
    },
    {
      "cell_type": "code",
      "metadata": {
        "colab": {
          "base_uri": "https://localhost:8080/",
          "height": 399
        },
        "id": "6pbqB57SnVXU",
        "outputId": "248cd365-b8e1-4eff-fc86-10b92fdca849"
      },
      "source": [
        "#Plotting Boxplot & Histogram\n",
        "plt.boxplot(df[\"legs\"])"
      ],
      "execution_count": 15,
      "outputs": [
        {
          "output_type": "execute_result",
          "data": {
            "text/plain": [
              "{'boxes': [<matplotlib.lines.Line2D at 0x7fba738ee2d0>],\n",
              " 'caps': [<matplotlib.lines.Line2D at 0x7fba738fa350>,\n",
              "  <matplotlib.lines.Line2D at 0x7fba738fa890>],\n",
              " 'fliers': [<matplotlib.lines.Line2D at 0x7fba7395f890>],\n",
              " 'means': [],\n",
              " 'medians': [<matplotlib.lines.Line2D at 0x7fba738fae10>],\n",
              " 'whiskers': [<matplotlib.lines.Line2D at 0x7fba73988e90>,\n",
              "  <matplotlib.lines.Line2D at 0x7fba738eedd0>]}"
            ]
          },
          "metadata": {},
          "execution_count": 15
        },
        {
          "output_type": "display_data",
          "data": {
            "image/png": "[encoded data removed]",
            "text/plain": [
              "<Figure size 432x288 with 1 Axes>"
            ]
          },
          "metadata": {
            "needs_background": "light"
          }
        }
      ]
    },
    {
      "cell_type": "code",
      "metadata": {
        "colab": {
          "base_uri": "https://localhost:8080/",
          "height": 399
        },
        "id": "VZP3HwG5ns2k",
        "outputId": "3a34108a-150c-48e4-974c-f5ecdd2832ab"
      },
      "source": [
        "plt.boxplot(df[\"type\"])"
      ],
      "execution_count": 16,
      "outputs": [
        {
          "output_type": "execute_result",
          "data": {
            "text/plain": [
              "{'boxes': [<matplotlib.lines.Line2D at 0x7fba73452cd0>],\n",
              " 'caps': [<matplotlib.lines.Line2D at 0x7fba7345ad10>,\n",
              "  <matplotlib.lines.Line2D at 0x7fba733e1290>],\n",
              " 'fliers': [<matplotlib.lines.Line2D at 0x7fba733e1d50>],\n",
              " 'means': [],\n",
              " 'medians': [<matplotlib.lines.Line2D at 0x7fba733e1810>],\n",
              " 'whiskers': [<matplotlib.lines.Line2D at 0x7fba7345a290>,\n",
              "  <matplotlib.lines.Line2D at 0x7fba7345a7d0>]}"
            ]
          },
          "metadata": {},
          "execution_count": 16
        },
        {
          "output_type": "display_data",
          "data": {
            "image/png": "[encoded data removed]",
            "text/plain": [
              "<Figure size 432x288 with 1 Axes>"
            ]
          },
          "metadata": {
            "needs_background": "light"
          }
        }
      ]
    },
    {
      "cell_type": "code",
      "metadata": {
        "colab": {
          "base_uri": "https://localhost:8080/",
          "height": 315
        },
        "id": "x41yQL-gn6A4",
        "outputId": "d9856648-2435-412b-92ef-defc7d581f90"
      },
      "source": [
        "plt.hist(df[\"legs\"])"
      ],
      "execution_count": 17,
      "outputs": [
        {
          "output_type": "execute_result",
          "data": {
            "text/plain": [
              "(array([23.,  0., 27.,  0.,  0., 38.,  1., 10.,  0.,  2.]),\n",
              " array([0. , 0.8, 1.6, 2.4, 3.2, 4. , 4.8, 5.6, 6.4, 7.2, 8. ]),\n",
              " <a list of 10 Patch objects>)"
            ]
          },
          "metadata": {},
          "execution_count": 17
        },
        {
          "output_type": "display_data",
          "data": {
            "image/png": "[encoded data removed]",
            "text/plain": [
              "<Figure size 432x288 with 1 Axes>"
            ]
          },
          "metadata": {
            "needs_background": "light"
          }
        }
      ]
    },
    {
      "cell_type": "code",
      "metadata": {
        "id": "Ka81nVSDn_jB"
      },
      "source": [
        "#Creating dummy variables for the animal variable\n",
        "dummy = pd.get_dummies(df[\"animalname\"],drop_first =True)"
      ],
      "execution_count": 18,
      "outputs": []
    },
    {
      "cell_type": "code",
      "metadata": {
        "id": "Ggx2QzNvohS0"
      },
      "source": [
        "df = pd.concat([df,dummy],axis=1)"
      ],
      "execution_count": 19,
      "outputs": []
    },
    {
      "cell_type": "code",
      "metadata": {
        "id": "gfFGPhCzooTr"
      },
      "source": [
        "df = df.drop([\"animalname\"],axis=1)\n"
      ],
      "execution_count": 20,
      "outputs": []
    },
    {
      "cell_type": "code",
      "metadata": {
        "colab": {
          "base_uri": "https://localhost:8080/"
        },
        "id": "fOFu5bkLooWi",
        "outputId": "e5803a56-a8b8-4129-f8af-61220b2416af"
      },
      "source": [
        "df[\"legs\"].value_counts()"
      ],
      "execution_count": 21,
      "outputs": [
        {
          "output_type": "execute_result",
          "data": {
            "text/plain": [
              "4    38\n",
              "2    27\n",
              "0    23\n",
              "6    10\n",
              "8     2\n",
              "5     1\n",
              "Name: legs, dtype: int64"
            ]
          },
          "metadata": {},
          "execution_count": 21
        }
      ]
    },
    {
      "cell_type": "code",
      "metadata": {
        "id": "g3EacMGOooau"
      },
      "source": [
        "df[\"legs\"],_=pd.factorize(df[\"legs\"])"
      ],
      "execution_count": 22,
      "outputs": []
    },
    {
      "cell_type": "code",
      "metadata": {
        "id": "byk05CnTooda"
      },
      "source": [
        "labels = df.iloc[:,16]"
      ],
      "execution_count": 23,
      "outputs": []
    },
    {
      "cell_type": "code",
      "metadata": {
        "id": "R-Gqql7ko69E"
      },
      "source": [
        "features = df.drop([\"type\"],axis=1)"
      ],
      "execution_count": 24,
      "outputs": []
    },
    {
      "cell_type": "code",
      "metadata": {
        "id": "JGj4V0rIo7Aw"
      },
      "source": [
        "#Normalizing equation\n",
        "def norm_func(i):\n",
        "    x=(i-i.min())/(i.max()-i.min())\n",
        "    return(x)"
      ],
      "execution_count": 25,
      "outputs": []
    },
    {
      "cell_type": "code",
      "metadata": {
        "id": "m7vO0Xfco7CJ"
      },
      "source": [
        "data = norm_func(features)"
      ],
      "execution_count": 26,
      "outputs": []
    },
    {
      "cell_type": "code",
      "metadata": {
        "id": "FSDpKwD-o7FY"
      },
      "source": [
        "#Splitting the data\n",
        "from sklearn.model_selection import train_test_split\n",
        "x_train,x_test,y_train,y_test = train_test_split(data,labels,test_size =0.2, stratify=labels)"
      ],
      "execution_count": 27,
      "outputs": []
    },
    {
      "cell_type": "code",
      "metadata": {
        "id": "pwUrZKNGo7Hk"
      },
      "source": [
        "from sklearn.neighbors import KNeighborsClassifier as KN\n",
        "\n"
      ],
      "execution_count": 28,
      "outputs": []
    },
    {
      "cell_type": "code",
      "metadata": {
        "id": "rW9A6ufCrZ74"
      },
      "source": [
        "model1 =KN(n_neighbors = 5)"
      ],
      "execution_count": 29,
      "outputs": []
    },
    {
      "cell_type": "code",
      "metadata": {
        "colab": {
          "base_uri": "https://localhost:8080/"
        },
        "id": "W8P57up6rcrg",
        "outputId": "8e3c97b4-dc93-4418-dbed-c987b17b1265"
      },
      "source": [
        "model1.fit(x_train,y_train)"
      ],
      "execution_count": 30,
      "outputs": [
        {
          "output_type": "execute_result",
          "data": {
            "text/plain": [
              "KNeighborsClassifier(algorithm='auto', leaf_size=30, metric='minkowski',\n",
              "                     metric_params=None, n_jobs=None, n_neighbors=5, p=2,\n",
              "                     weights='uniform')"
            ]
          },
          "metadata": {},
          "execution_count": 30
        }
      ]
    },
    {
      "cell_type": "code",
      "metadata": {
        "id": "0661NPnfpul4"
      },
      "source": [
        "#Accuracy on training data\n",
        "train_acc = np.mean((model1.predict(x_train)==y_train))"
      ],
      "execution_count": 36,
      "outputs": []
    },
    {
      "cell_type": "code",
      "metadata": {
        "colab": {
          "base_uri": "https://localhost:8080/"
        },
        "id": "8d-DwOrbIadR",
        "outputId": "f3a750b7-da33-4f99-af7a-a5a91e9c99a9"
      },
      "source": [
        "print(train_acc)"
      ],
      "execution_count": 48,
      "outputs": [
        {
          "output_type": "stream",
          "text": [
            "0.6\n"
          ],
          "name": "stdout"
        }
      ]
    },
    {
      "cell_type": "code",
      "metadata": {
        "id": "ljkXk1-5p6Xg"
      },
      "source": [
        "#Accuracy on test data\n",
        "test_Acc = np.mean(model1.predict(x_test)==y_test)"
      ],
      "execution_count": 39,
      "outputs": []
    },
    {
      "cell_type": "code",
      "metadata": {
        "colab": {
          "base_uri": "https://localhost:8080/"
        },
        "id": "HAlPqqilIebP",
        "outputId": "c0931398-3ffd-4168-d588-e90c2d9f7bb4"
      },
      "source": [
        "print(test_acc)"
      ],
      "execution_count": 49,
      "outputs": [
        {
          "output_type": "stream",
          "text": [
            "0.5714285714285714\n"
          ],
          "name": "stdout"
        }
      ]
    },
    {
      "cell_type": "code",
      "metadata": {
        "colab": {
          "base_uri": "https://localhost:8080/"
        },
        "id": "00bPiXfDp_cH",
        "outputId": "4d7fb163-0567-4d6f-c04a-c5519b31721a"
      },
      "source": [
        "model2 = KN(n_neighbors=7)\n",
        "model2.fit(x_train,y_train)"
      ],
      "execution_count": 40,
      "outputs": [
        {
          "output_type": "execute_result",
          "data": {
            "text/plain": [
              "KNeighborsClassifier(algorithm='auto', leaf_size=30, metric='minkowski',\n",
              "                     metric_params=None, n_jobs=None, n_neighbors=7, p=2,\n",
              "                     weights='uniform')"
            ]
          },
          "metadata": {},
          "execution_count": 40
        }
      ]
    },
    {
      "cell_type": "code",
      "metadata": {
        "id": "GEvI13vxqHkK"
      },
      "source": [
        "#Accuracy ofn training data\n",
        "train2_acc = np.mean(model2.predict(x_train)==y_train)"
      ],
      "execution_count": 41,
      "outputs": []
    },
    {
      "cell_type": "code",
      "metadata": {
        "colab": {
          "base_uri": "https://localhost:8080/"
        },
        "id": "DnbPzyTiINea",
        "outputId": "08587a2c-28a0-430f-8556-2602496c9582"
      },
      "source": [
        "print(train2_acc)"
      ],
      "execution_count": 42,
      "outputs": [
        {
          "output_type": "stream",
          "text": [
            "0.9625\n"
          ],
          "name": "stdout"
        }
      ]
    },
    {
      "cell_type": "code",
      "metadata": {
        "id": "ghmY4Bs2qRqg"
      },
      "source": [
        "#Accuracy on test data\n",
        "test2_acc = np.mean(model2.predict(x_test)==y_test)\n"
      ],
      "execution_count": 43,
      "outputs": []
    },
    {
      "cell_type": "code",
      "metadata": {
        "colab": {
          "base_uri": "https://localhost:8080/"
        },
        "id": "rhJVFXwKIU6O",
        "outputId": "b62f3bb7-dbfe-4c06-ecb2-f2c826bf7cca"
      },
      "source": [
        "print(test2_acc)"
      ],
      "execution_count": 47,
      "outputs": [
        {
          "output_type": "stream",
          "text": [
            "0.9047619047619048\n"
          ],
          "name": "stdout"
        }
      ]
    },
    {
      "cell_type": "code",
      "metadata": {
        "id": "w6IDBO55qX2M"
      },
      "source": [
        "#Creating a empty list\n",
        "acc=[]"
      ],
      "execution_count": 44,
      "outputs": []
    },
    {
      "cell_type": "code",
      "metadata": {
        "id": "Ju40iQMXqbHf"
      },
      "source": [
        "#running KNN algorithm for 7 to 50 nearest neighbours and \n",
        "# storing the accuracy values \n",
        "\n",
        "for i in range(7,50,2):\n",
        "    model2=KN(n_neighbors = i)\n",
        "    model2.fit(x_train,y_train)\n",
        "    train_acc = np.mean(model2.predict(x_train)==y_train)\n",
        "    test_acc = np.mean(model2.predict(x_test)==y_test)\n",
        "    acc.append([train_acc,test_acc])"
      ],
      "execution_count": 45,
      "outputs": []
    },
    {
      "cell_type": "code",
      "metadata": {
        "colab": {
          "base_uri": "https://localhost:8080/",
          "height": 282
        },
        "id": "hFe-c5bnqflg",
        "outputId": "c6d3cc12-cc20-41aa-d8cd-c3afa8d86604"
      },
      "source": [
        "import matplotlib.pyplot as plt\n",
        "#training accuracy plot\n",
        "plt.plot(np.arange(7,50,2),[i[0] for i in acc],\"bo-\")"
      ],
      "execution_count": null,
      "outputs": [
        {
          "output_type": "execute_result",
          "data": {
            "text/plain": [
              "[<matplotlib.lines.Line2D at 0x7f923a03d090>]"
            ]
          },
          "metadata": {},
          "execution_count": 51
        },
        {
          "output_type": "display_data",
          "data": {
            "image/png": "[encoded data removed]",
            "text/plain": [
              "<Figure size 432x288 with 1 Axes>"
            ]
          },
          "metadata": {
            "needs_background": "light"
          }
        }
      ]
    },
    {
      "cell_type": "code",
      "metadata": {
        "colab": {
          "base_uri": "https://localhost:8080/",
          "height": 282
        },
        "id": "PhFvRxgzqo70",
        "outputId": "44a3407c-a8d8-41fa-8697-9c56e64d36b4"
      },
      "source": [
        "#test accuracy plot\n",
        "plt.plot(np.arange(7,50,2),[i[1] for i in acc],\"ro-\")    "
      ],
      "execution_count": null,
      "outputs": [
        {
          "output_type": "execute_result",
          "data": {
            "text/plain": [
              "[<matplotlib.lines.Line2D at 0x7f923a01bf90>]"
            ]
          },
          "metadata": {},
          "execution_count": 52
        },
        {
          "output_type": "display_data",
          "data": {
            "image/png": "[encoded data removed]",
            "text/plain": [
              "<Figure size 432x288 with 1 Axes>"
            ]
          },
          "metadata": {
            "needs_background": "light"
          }
        }
      ]
    },
    {
      "cell_type": "code",
      "metadata": {
        "colab": {
          "base_uri": "https://localhost:8080/",
          "height": 286
        },
        "id": "hPU4Xlh_qo-h",
        "outputId": "627586b4-9469-421c-fada-c53bcad15ead"
      },
      "source": [
        "plt.legend([\"train_acc\", \"test_acc\"])"
      ],
      "execution_count": null,
      "outputs": [
        {
          "output_type": "execute_result",
          "data": {
            "text/plain": [
              "<matplotlib.legend.Legend at 0x7f9245ee4590>"
            ]
          },
          "metadata": {},
          "execution_count": 53
        },
        {
          "output_type": "display_data",
          "data": {
            "image/png": "[encoded data removed]",
            "text/plain": [
              "<Figure size 432x288 with 1 Axes>"
            ]
          },
          "metadata": {
            "needs_background": "light"
          }
        }
      ]
    },
    {
      "cell_type": "code",
      "metadata": {
        "colab": {
          "base_uri": "https://localhost:8080/"
        },
        "id": "K9jeGYp-qpBB",
        "outputId": "11fd3a49-7823-4dbd-d6c3-7ec24e640778"
      },
      "source": [
        "# The plot shows k=17,Trying for k=17\n",
        "model_fin = KN(n_neighbors = 17) \n",
        "model_fin.fit(x_train,y_train)"
      ],
      "execution_count": 52,
      "outputs": [
        {
          "output_type": "execute_result",
          "data": {
            "text/plain": [
              "KNeighborsClassifier(algorithm='auto', leaf_size=30, metric='minkowski',\n",
              "                     metric_params=None, n_jobs=None, n_neighbors=17, p=2,\n",
              "                     weights='uniform')"
            ]
          },
          "metadata": {},
          "execution_count": 52
        }
      ]
    },
    {
      "cell_type": "code",
      "metadata": {
        "id": "MtQUGjOAq24S"
      },
      "source": [
        "#Accuracy on training data\n",
        "train_fin = np.mean(model_fin.predict(x_train)==y_train)"
      ],
      "execution_count": 53,
      "outputs": []
    },
    {
      "cell_type": "code",
      "metadata": {
        "colab": {
          "base_uri": "https://localhost:8080/"
        },
        "id": "bDv2eULxIjtq",
        "outputId": "27690dc0-c68d-404d-cabc-c0739d48699f"
      },
      "source": [
        "print(train_fin)"
      ],
      "execution_count": 54,
      "outputs": [
        {
          "output_type": "stream",
          "text": [
            "0.8625\n"
          ],
          "name": "stdout"
        }
      ]
    },
    {
      "cell_type": "code",
      "metadata": {
        "id": "zJSKdmUssaux"
      },
      "source": [
        "#Accuracy on test data\n",
        "test_fin =np.mean(model_fin.predict(x_test)==y_test)"
      ],
      "execution_count": 55,
      "outputs": []
    },
    {
      "cell_type": "code",
      "metadata": {
        "colab": {
          "base_uri": "https://localhost:8080/"
        },
        "id": "qZ_Egm_LIsIA",
        "outputId": "76fc52dc-87e6-4622-f6f9-1c34f7a83d12"
      },
      "source": [
        "print(test_fin)"
      ],
      "execution_count": 56,
      "outputs": [
        {
          "output_type": "stream",
          "text": [
            "0.9047619047619048\n"
          ],
          "name": "stdout"
        }
      ]
    }
  ]
}